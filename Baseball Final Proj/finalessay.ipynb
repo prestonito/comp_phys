{
 "cells": [
  {
   "cell_type": "markdown",
   "id": "stuck-galaxy",
   "metadata": {},
   "source": [
    "# <center> Baseball Pitch Simulation <center>\n"
   ]
  },
  {
   "cell_type": "markdown",
   "id": "meaningful-complex",
   "metadata": {},
   "source": [
    "#### <center> Preston Ito <center>\n"
   ]
  },
  {
   "cell_type": "markdown",
   "id": "processed-singles",
   "metadata": {},
   "source": [
    "<img src=\"kershaw.jpg\" width=\"700\" />"
   ]
  },
  {
   "cell_type": "markdown",
   "id": "ordered-spouse",
   "metadata": {},
   "source": [
    "\n",
    "When I was 10 years old pitching for the Pukalani Braves in Little League Baseball, I wanted so badly to be able to throw a curveball. I was able to throw an accurate fastball, but I wished to expand my pitching arsenal. My tiny little hands could barely cover half of the baseball, but I didn't let that discourage my pitching dreams. Unfortunately, even Google couldn't provide me with any answers after looking up, \"How to throw a curveball for kids.\" I tried and tried but to no avail. My small body just didn't have what it took to throw a curveball, or any breaking pitch for that matter. 10 years later, I've decided to accomplish my childhood goals in another way: through computer code. \n"
   ]
  },
  {
   "cell_type": "markdown",
   "id": "violent-simulation",
   "metadata": {},
   "source": [
    "## <center> How does it work? <center>"
   ]
  },
  {
   "cell_type": "code",
   "execution_count": 1,
   "id": "quantitative-foster",
   "metadata": {},
   "outputs": [
    {
     "ename": "ModuleNotFoundError",
     "evalue": "No module named 'vpython'",
     "output_type": "error",
     "traceback": [
      "\u001b[0;31m---------------------------------------------------------------------------\u001b[0m",
      "\u001b[0;31mModuleNotFoundError\u001b[0m                       Traceback (most recent call last)",
      "Input \u001b[0;32mIn [1]\u001b[0m, in \u001b[0;36m<cell line: 4>\u001b[0;34m()\u001b[0m\n\u001b[1;32m      2\u001b[0m \u001b[38;5;28;01mimport\u001b[39;00m \u001b[38;5;21;01mmatplotlib\u001b[39;00m\u001b[38;5;21;01m.\u001b[39;00m\u001b[38;5;21;01mpyplot\u001b[39;00m \u001b[38;5;28;01mas\u001b[39;00m \u001b[38;5;21;01mplt\u001b[39;00m\n\u001b[1;32m      3\u001b[0m \u001b[38;5;28;01mfrom\u001b[39;00m \u001b[38;5;21;01mmath\u001b[39;00m \u001b[38;5;28;01mimport\u001b[39;00m cos,sin,pi,tan,radians\n\u001b[0;32m----> 4\u001b[0m \u001b[38;5;28;01mimport\u001b[39;00m \u001b[38;5;21;01mvpython\u001b[39;00m \u001b[38;5;28;01mas\u001b[39;00m \u001b[38;5;21;01mvp\u001b[39;00m\n\u001b[1;32m      5\u001b[0m \u001b[38;5;28;01mfrom\u001b[39;00m \u001b[38;5;21;01mfinalmodule\u001b[39;00m \u001b[38;5;28;01mimport\u001b[39;00m makefield,bigplot,plot\n",
      "\u001b[0;31mModuleNotFoundError\u001b[0m: No module named 'vpython'"
     ]
    }
   ],
   "source": [
    "import numpy as np\n",
    "import matplotlib.pyplot as plt\n",
    "from math import cos,sin,pi,tan,radians\n",
    "import vpython as vp\n",
    "from finalmodule import makefield,bigplot,plot"
   ]
  },
  {
   "cell_type": "markdown",
   "id": "velvet-legislation",
   "metadata": {},
   "source": [
    "I've created a simulation that can throw fastballs, curveballs, and sliders at any user-input speed. First, I had to define all constants including the mass and radius of ball, gravity, density of air, cross-sectional area, initial spin and velocities in all 3 axes, throwing angle, and $k_d$ and $k_l$. $k_d$ and $k_l$ are the drag and lift coefficients that I use in all 3 ($x$,$y$ and $z$ directions) of the acceleration equations. When the cell below runs, it'll ask the user to choose a pitch by typing \"FB\", \"CB\", or \"SL\". FB is a fastball, CB is a curveball, and SL is a slider. Depending on what the user selects, the code assigns different values for spin, direction, and throwing angle. For example, the fastball is thrown downwards at an angle of $1.2 º$ with backspin of $200$ $\\frac {rad}{s}$. The slider is thrown with a side spin of $-250$ $\\frac {rad}{s}$. To account for the side spin, I've included an initial velocity in the opposite direction. Furthermore, this cell asks the user for an input of initial velocity. Typically, fastballs are thrown between 94-99 mph, sliders are thrown between 82-90 mph, and curveballs range from 75-85 mph.\n",
    "\n",
    "\n",
    "\n",
    "*Note: This program has realistic numbers for spin to most accurately model real baseball pitches. However, if you've ever wanted to see what a fastball with unrealistically insane backspin or a slider that moves more than 4 feet side to side, you can change the values for the different omegas to see how it affects the graphs. Furthermore, I recommend inputting unrealistic velocities just to explore and see how the path of travel is affected.*"
   ]
  },
  {
   "cell_type": "markdown",
   "id": "noble-plastic",
   "metadata": {},
   "source": [
    "<img src=\"spin.png\" width=\"250\" />"
   ]
  },
  {
   "cell_type": "code",
   "execution_count": 2,
   "id": "applicable-instrument",
   "metadata": {},
   "outputs": [
    {
     "name": "stdin",
     "output_type": "stream",
     "text": [
      "FB, CB, or SL FB\n",
      "Velocity of pitch (mph) 90\n"
     ]
    }
   ],
   "source": [
    "#global constants \n",
    "\n",
    "cd = 0.4     #drag coefficient\n",
    "rho = 1.2    #density of air\n",
    "m = 0.1447     #mass of baseball in kg\n",
    "rad = 0.07376/2       #radius of baseball in m\n",
    "A = pi*rad**2      \n",
    "omegax = 0      #none of these three types of pitches have spin on the x-axis\n",
    "g = 9.8      #gravity\n",
    "kd = cd*rho*A/(2*m)       #k_d constant used in diff eq\n",
    "kl = rad*rho*A/(2*m)       #k_l constant used in diff eq\n",
    "\n",
    "i = input(\"FB, CB, or SL\")      #user chooses fastball, curveball, or slider\n",
    "if i == \"FB\":\n",
    "    omegay = -200        #fastballs have backspin of ~200 rad/s\n",
    "    omegaz = 0\n",
    "    v0y = 0\n",
    "    theta = radians(-1.2)      #fastballs are thrown at ~-1.8 degrees\n",
    "    \n",
    "elif i == \"CB\":\n",
    "    omegay = 315         #curveballs have topspin of ~315 rad/s\n",
    "    omegaz = 0\n",
    "    v0y = 0\n",
    "    theta = radians(3)      #curveballs are thrown at ~3 degrees\n",
    "\n",
    "elif i == \"SL\":          #this slider simulation is thrown by a RHP\n",
    "    omegaz = -250        #sliders have side spin of ~250 degrees \n",
    "    omegay = 0\n",
    "    v0y = 2             #thrown slightly to the right with a small initial velocity\n",
    "    theta = radians(1.2)    #sliders are thrown at ~1.5 degrees\n",
    "    \n",
    "a = float(input(\"Velocity of pitch (mph)\"))   #asks user to input initial velocity\n",
    "v0 = a/2.237\n"
   ]
  },
  {
   "cell_type": "markdown",
   "id": "excessive-flower",
   "metadata": {},
   "source": [
    "### <center> Solving differential equations <center>"
   ]
  },
  {
   "cell_type": "markdown",
   "id": "strategic-undergraduate",
   "metadata": {},
   "source": [
    "Once I assigned all of my constants, I assigned different variables to the different numbers in the r array, which is an array of initial values of position and velocity in all 3 directions. I estimated a release height of 6ft for the ball. I used $sin$ and $cos$ to determine the initial velocities in the $x$ and $z$ directions. Then, I used 4th order Runge-Kutta to solve the different differential equations. I got all equations from *Computer Modeling: From Sports to Spaceflight...From Order to Chaos by J.M.A. Derby*. Essentially, these equations come from Newton's Second Law $\\sum{F}=ma$, with 3 different forces: gravity, lift from the seams and spin of the ball, and drag from air resistance."
   ]
  },
  {
   "cell_type": "markdown",
   "id": "opened-announcement",
   "metadata": {},
   "source": [
    "<img src=\"ballforce.gif\" width=\"350\" />"
   ]
  },
  {
   "cell_type": "markdown",
   "id": "c4ccc04d-e574-4cb1-ac9e-b3361221141d",
   "metadata": {},
   "source": [
    "<center>$F_g = -mg$<center>    <center>$F_L = \\frac{C_LρAv^2}{2}$<center>  <right>$F_D = -\\frac{C_DρAv^2}{2}$<right>"
   ]
  },
  {
   "cell_type": "markdown",
   "id": "configured-aaron",
   "metadata": {},
   "source": [
    "<center> $dv_x = -vk_dv_x+(k_l(\\omega_yv_z-\\omega_zv_y))$ <center>\n",
    "<center> $dv_y = -vk_dv_y+(k_l(\\omega_zv_x-\\omega_xv_z))$ <center>\n",
    "<center> $dv_z = -vk_dv_z+(k_l(\\omega_xv_y-\\omega_yv_x))$ <center>    "
   ]
  },
  {
   "cell_type": "markdown",
   "id": "heard-islam",
   "metadata": {},
   "source": [
    "*Note: The differential equations from the book were written so that $z$ is the vertical axis. This differs from the simulation in which $y$ is the vertical axis. This won't affect us yet, but it's something to keep in mind moving forward.*"
   ]
  },
  {
   "cell_type": "code",
   "execution_count": 5,
   "id": "hispanic-jason",
   "metadata": {},
   "outputs": [],
   "source": [
    "def f(r):\n",
    "    \n",
    "    #assigning variables to the r array of different initial values\n",
    "    x = r[0]\n",
    "    y = r[1]\n",
    "    z = r[2]\n",
    "    vx = r[3]\n",
    "    vy = r[4]\n",
    "    vz = r[5]\n",
    "    \n",
    "    v = (vx**2+vy**2+vz**2)**0.5      #magnitude of velocity \n",
    "    \n",
    "    #diff eqs from Kuchera book pg. 152\n",
    "    dx = vx \n",
    "    dvx = -kd*v*vx+((kl*(omegay*vz-omegaz*vy)))\n",
    "    dy = vy\n",
    "    dvy = -kd*v*vy+((kl*(omegaz*vx-omegax*vz)))\n",
    "    dz = vz\n",
    "    dvz = -kd*v*vz+((kl*(omegax*vy-omegay*vx)))-g\n",
    "    \n",
    "    return np.array([dx,dy,dz,dvx,dvy,dvz],float)  #IMPORTANT: in the diff eqs given, the z-axis is the vertical axis. \n",
    "                                                    #However, in vpython, the y-axis is the vertical axis\n"
   ]
  },
  {
   "cell_type": "markdown",
   "id": "convinced-crazy",
   "metadata": {},
   "source": [
    "### <center> Runge-Kutta <center>"
   ]
  },
  {
   "cell_type": "markdown",
   "id": "controlling-divide",
   "metadata": {},
   "source": [
    "Runge-Kutta is an ordinary differential equation solver that takes takes higher order derivatives to solve. Below are the equations for 4th order Runge-Kutta, where r represents the equations of motions in the $x$, $y$, and $z$ directions. The Runge-Kutta updates each position every 0.05 seconds until the z-position (height) is at 0. The cell below returns 3 lists: one for each direction. \n",
    "\n",
    "\n"
   ]
  },
  {
   "cell_type": "markdown",
   "id": "unlike-antibody",
   "metadata": {},
   "source": [
    "\n",
    "$$ k_1 = hf(r) $$\n",
    "$$ k_2 = hf(r+\\frac{1}{2}k_1) $$\n",
    "$$ k_3 = hf(r+\\frac{1}{2}k_2) $$\n",
    "$$ k_4 = hf(r+k_3) $$\n",
    "$$ r = r + \\frac{1}{6}(k_1+2k_2+2k_3+k_4)$$"
   ]
  },
  {
   "cell_type": "code",
   "execution_count": 6,
   "id": "happy-equation",
   "metadata": {},
   "outputs": [],
   "source": [
    "def runge(dt):\n",
    "\n",
    "    #for plotting\n",
    "    xs = [] \n",
    "    ys = []\n",
    "    zs = []\n",
    "    \n",
    "    \n",
    "    #taking the x and z components\n",
    "    v0x = v0*cos(theta)         \n",
    "    v0z = v0*sin(theta)\n",
    "    \n",
    "    r = np.array([0,0,1.8288,v0x,v0y,v0z])  #r array of initial values. starts at a height of ~6ft or ~1.8288m\n",
    "    h = dt\n",
    "    \n",
    "    #4th order Runge-Kutta while ball is in air\n",
    "    while r[2] >= 0:\n",
    "        xs.append(r[0]) # calc x for plotting\n",
    "        ys.append(r[1]) # calc y for plotting\n",
    "        zs.append(r[2])\n",
    "        k1 = h*f(r)\n",
    "        k2 = h*f(r+0.5*k1)\n",
    "        k3 = h*f(r+0.5*k2)\n",
    "        k4 = h*f(r+k3)\n",
    "        r += (k1+2*k2+2*k3+k4)/6\n",
    "    return xs,ys,zs,v0            #return v0 for use later in vpython function\n"
   ]
  },
  {
   "cell_type": "markdown",
   "id": "stuffed-decade",
   "metadata": {},
   "source": [
    "## <center> Plotting <center>"
   ]
  },
  {
   "cell_type": "markdown",
   "id": "sacred-palestinian",
   "metadata": {},
   "source": [
    "With the 3 lists from above, we can now plot them. The first plot function I've created plots the height against the distance to show the path of travel in two dimensions. Remember, I have to treat the $z$-direction as the traditional $y$-direction because of our differential equations. The second plot function called \"bigplot\" graphs the path of travel in three dimensions. Try graphing the slider! The 3D plot really shows how much side movement it has.\n",
    "\n",
    "Aside from the two plots, I also created a vpython simulation to model the pitch with a strikezone. I enlarged the ball and the strikezone so the simulation looks nicer. The ball's position is updated with a for loop that goes through each item in all three lists. To make the ball travel in a speed proportional to the user input velocity, I made the rate at which the loop updates some factor times the user input. That way,  for example, a 99mph fastball will move across the screen faster than a 95mph. To move around in the vpython simulation, you can scroll up and down to zoom in and out. To move laterally, hold down shift while left clicking and move around. To change the angle, hold down control while left clicking.\n",
    "\n",
    "*Note: Sometimes vpython won't work. If this happens, try restarting the kernel and trying again. If the problem persits, refresh the whole page.*\n",
    "\n"
   ]
  },
  {
   "cell_type": "code",
   "execution_count": 7,
   "id": "complimentary-convert",
   "metadata": {},
   "outputs": [
    {
     "ename": "NameError",
     "evalue": "name 'makefield' is not defined",
     "output_type": "error",
     "traceback": [
      "\u001b[0;31m---------------------------------------------------------------------------\u001b[0m",
      "\u001b[0;31mNameError\u001b[0m                                 Traceback (most recent call last)",
      "Input \u001b[0;32mIn [7]\u001b[0m, in \u001b[0;36m<cell line: 8>\u001b[0;34m()\u001b[0m\n\u001b[1;32m      6\u001b[0m     bigplot(xf,yf,zf)\n\u001b[1;32m      8\u001b[0m \u001b[38;5;28;01mif\u001b[39;00m \u001b[38;5;18m__name__\u001b[39m\u001b[38;5;241m==\u001b[39m\u001b[38;5;124m\"\u001b[39m\u001b[38;5;124m__main__\u001b[39m\u001b[38;5;124m\"\u001b[39m:\n\u001b[0;32m----> 9\u001b[0m     \u001b[43mmain\u001b[49m\u001b[43m(\u001b[49m\u001b[43m)\u001b[49m\n",
      "Input \u001b[0;32mIn [7]\u001b[0m, in \u001b[0;36mmain\u001b[0;34m()\u001b[0m\n\u001b[1;32m      1\u001b[0m \u001b[38;5;28;01mdef\u001b[39;00m \u001b[38;5;21mmain\u001b[39m():\n\u001b[1;32m      3\u001b[0m     xs,ys,zs,v0 \u001b[38;5;241m=\u001b[39m runge(\u001b[38;5;241m0.01\u001b[39m)   \u001b[38;5;66;03m#time step of 0.01 seconds\u001b[39;00m\n\u001b[0;32m----> 4\u001b[0m     \u001b[43mmakefield\u001b[49m(xs,ys,zs,v0)\n\u001b[1;32m      5\u001b[0m     xf,yf,zf \u001b[38;5;241m=\u001b[39m plot(xs,ys,zs)\n\u001b[1;32m      6\u001b[0m     bigplot(xf,yf,zf)\n",
      "\u001b[0;31mNameError\u001b[0m: name 'makefield' is not defined"
     ]
    }
   ],
   "source": [
    "def main():\n",
    "    \n",
    "    xs,ys,zs,v0 = runge(0.01)   #time step of 0.01 seconds\n",
    "    makefield(xs,ys,zs,v0)\n",
    "    xf,yf,zf = plot(xs,ys,zs)\n",
    "    bigplot(xf,yf,zf)\n",
    "    \n",
    "if __name__==\"__main__\":\n",
    "    main()"
   ]
  },
  {
   "cell_type": "markdown",
   "id": "special-qualification",
   "metadata": {},
   "source": [
    "## <center> Things I Had Trouble With <center>"
   ]
  },
  {
   "cell_type": "markdown",
   "id": "grand-cotton",
   "metadata": {},
   "source": [
    "There were a couple things I didn't account for in this simulation. One thing is that the coordinates of the ball when it's being released is not (0,0,6) like I said it was. There is almost always a $y$-component when the ball is being released. There are two reasons why I didn't incorporate this into my final project. First and foremost, I completely forgot about the $y$-position. I forgot that the pitcher doesn't release the ball directly inline with home plate. Secondly, by the time I realized I had left this out, I thought that it wouldn't add too much to the simulation since the simulations purpose is to show the movement of the ball with spin. Starting the ball at a position of $y=0$ is a better way to show the movement of the slider (which has side spin). Another thing to note is that a lot of assumptions were taken when writing this code. I took a rough average of spin from MLB pitchers for each pitches' spin. I also assumed the throwing angle of the different pitches, which again, was a rough estimate based on videos and simulation runs. \n",
    "\n",
    "\n"
   ]
  },
  {
   "cell_type": "markdown",
   "id": "productive-customs",
   "metadata": {},
   "source": [
    "#### <center>References<center>\n",
    "    \n",
    "    \n",
    "    \n",
    "https://baseballsavant.mlb.com/leaderboard/pitch-arsenals \n",
    "    \n",
    "https://www.mlb.com/news/statcast-spin-rate-compared-to-velocity-c160896926\n",
    "    \n",
    "https://rapsodo.com/wp-content/uploads/2019/07/MLB-PitchingGuide.pdf\n",
    "    \n",
    "https://prospects365.com/2020/08/11/examining-pitching-approach-angles/\n",
    "    \n",
    "Title:    Computer modeling : from sports to spaceflight-- from order to chaos /\n",
    "               Author:   Danby, J. M. A.\n",
    "               Material: BOOK\n",
    "    "
   ]
  }
 ],
 "metadata": {
  "kernelspec": {
   "display_name": "Python 3.8",
   "language": "python",
   "name": "python3"
  },
  "language_info": {
   "codemirror_mode": {
    "name": "ipython",
    "version": 3
   },
   "file_extension": ".py",
   "mimetype": "text/x-python",
   "name": "python",
   "nbconvert_exporter": "python",
   "pygments_lexer": "ipython3",
   "version": "3.8.6"
  }
 },
 "nbformat": 4,
 "nbformat_minor": 5
}
